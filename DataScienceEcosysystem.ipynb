{
 "cells": [
  {
   "cell_type": "markdown",
   "id": "dfa5c534-f97c-4bf3-85eb-623bd0bf65a4",
   "metadata": {},
   "source": [
    "# Data Science Tools And Ecosystem"
   ]
  },
  {
   "cell_type": "markdown",
   "id": "a7bccc21-8534-4ab0-a547-74272a40ccfb",
   "metadata": {},
   "source": [
    "In this notebook, Data Science Tools and Ecosystem are summerized."
   ]
  },
  {
   "cell_type": "markdown",
   "id": "acd0f2b3-db89-4157-a44a-74275556aa00",
   "metadata": {},
   "source": [
    "__Objectives__\n",
    "- List popular languages for Data Science\n",
    "- List commonly used libraries used in Data Science\n",
    "- Make table for Data Science tool and their languages"
   ]
  },
  {
   "cell_type": "markdown",
   "id": "5b0809b6-91b0-43d2-8df4-d7a9eff15665",
   "metadata": {},
   "source": [
    "Some of the popular languages that Data Scientists use are\n",
    "1. Python\n",
    "2. Java\n",
    "3. C\n"
   ]
  },
  {
   "cell_type": "markdown",
   "id": "0c55c358-5d77-4883-ac57-583acfa8d327",
   "metadata": {},
   "source": [
    "Some of the commonly used libraries used by Data Scientists include:\n",
    "1. NumOy\n",
    "2. Pandas\n",
    "3. Matplotlib\n",
    "4. Scikit-learn"
   ]
  },
  {
   "cell_type": "markdown",
   "id": "f7715672-471c-4c8e-8de4-1aa49358a5c4",
   "metadata": {},
   "source": [
    "Data Science Tools\n",
    " | JupyrerLab | Spyder | Rstudio |\n",
    " | ------ | ------ | ------ |\n",
    " |Python|Python|R|"
   ]
  },
  {
   "cell_type": "markdown",
   "id": "4c898678-9b01-44cf-8f41-7d00adaf51d3",
   "metadata": {},
   "source": [
    "### Below are a few examples of evaluiating arithmetic expressions in Python"
   ]
  },
  {
   "cell_type": "markdown",
   "id": "a006d668-dbb7-4857-93d1-17e903dcc467",
   "metadata": {},
   "source": [
    "This is a simple arthmetic expression to multiply then add integers"
   ]
  },
  {
   "cell_type": "code",
   "execution_count": 1,
   "id": "b714af38-ba10-44cd-be2a-0ea1a1f3ee55",
   "metadata": {},
   "outputs": [
    {
     "data": {
      "text/plain": [
       "17"
      ]
     },
     "execution_count": 1,
     "metadata": {},
     "output_type": "execute_result"
    }
   ],
   "source": [
    "(3*4)+5"
   ]
  },
  {
   "cell_type": "markdown",
   "id": "280d70d5-1a57-47bd-917c-18d85c6a3836",
   "metadata": {},
   "source": [
    "*This will convert 200 minites to hours by dividing by 60*"
   ]
  },
  {
   "cell_type": "code",
   "execution_count": 4,
   "id": "861f1fbd-557a-44ea-9a8a-c4f9b419d0af",
   "metadata": {},
   "outputs": [
    {
     "data": {
      "text/plain": [
       "3.3333333333333335"
      ]
     },
     "execution_count": 4,
     "metadata": {},
     "output_type": "execute_result"
    }
   ],
   "source": [
    "200/60"
   ]
  },
  {
   "cell_type": "markdown",
   "id": "ae1e2ecb-fbd3-4173-81c0-8ebe935495f5",
   "metadata": {},
   "source": [
    "## Author \n",
    "Josh Yoon"
   ]
  },
  {
   "cell_type": "code",
   "execution_count": null,
   "id": "8270f5da-5782-4d86-ad89-f4e62a6755e8",
   "metadata": {},
   "outputs": [],
   "source": []
  }
 ],
 "metadata": {
  "kernelspec": {
   "display_name": "Python 3 (ipykernel)",
   "language": "python",
   "name": "python3"
  },
  "language_info": {
   "codemirror_mode": {
    "name": "ipython",
    "version": 3
   },
   "file_extension": ".py",
   "mimetype": "text/x-python",
   "name": "python",
   "nbconvert_exporter": "python",
   "pygments_lexer": "ipython3",
   "version": "3.13.5"
  }
 },
 "nbformat": 4,
 "nbformat_minor": 5
}
